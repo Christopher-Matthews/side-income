{
 "cells": [
  {
   "cell_type": "code",
   "execution_count": null,
   "metadata": {},
   "outputs": [],
   "source": [
    "import pygsheets\n",
    "from pandas_gbq import gbq\n",
    "\n",
    "\n",
    "def load_data_from_google_sheet_to_BQ():\n",
    "        spread_sheet_name = \"spread_sheet_name\"\n",
    "        worksheet_name = \"worksheet_name\"\n",
    "        table_id = \"{0}.{1}\".format('Dataset_name', 'table_name')\n",
    "        gs = pygsheets.authorize(service_file=service_file_name)\n",
    "        sh = gs.open(spread_sheet_name)\n",
    "        wks = sh.worksheet_by_title(worksheet_name)\n",
    "        gs_data = wks.get_as_df()\n",
    "        gs_data.COLUMN1 = gs_data.COLUMN1.astype(str)\n",
    "        gs_data.COLUMN2 = gs_data.COLUMN2.astype(str).str.encode('utf-8', errors='strict')\n",
    "        gs_data.COLUMN3 = gs_data.COLUMN3.astype(str).str.encode('utf-8', errors='strict')\n",
    "        gs_data.COLUMN4 = gs_data.COLUMN4.astype(str)\n",
    "        gs_data.COLUMN5 = gs_data.COLUMN5.astype(str)\n",
    "        gs_data.COLUMN6 = gs_data.COLUMN6.astype(str)\n",
    "\n",
    "        gs_data = gs_data[['COLUMN1', 'COLUMN2', 'COLUMN3', 'COLUMN4', 'COLUMN5', 'COLUMN6']]\n",
    "        gbq.to_gbq(gs_data, table_id, project_id, if_exists='replace')\n",
    "\n",
    "\n",
    "\n",
    "load_data_from_google_sheet_to_BQ()"
   ]
  }
 ],
 "metadata": {
  "kernelspec": {
   "display_name": "Python 3",
   "language": "python",
   "name": "python3"
  },
  "language_info": {
   "codemirror_mode": {
    "name": "ipython",
    "version": 3
   },
   "file_extension": ".py",
   "mimetype": "text/x-python",
   "name": "python",
   "nbconvert_exporter": "python",
   "pygments_lexer": "ipython3",
   "version": "3.7.4"
  }
 },
 "nbformat": 4,
 "nbformat_minor": 2
}
