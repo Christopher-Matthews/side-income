{
 "cells": [
  {
   "cell_type": "code",
   "execution_count": null,
   "metadata": {},
   "outputs": [],
   "source": [
    "# requires\n",
    "# pip3 install --upgrade google-cloud-BigQuery\n",
    "# pip3 install pandas_gbq"
   ]
  },
  {
   "cell_type": "code",
   "execution_count": 1,
   "metadata": {},
   "outputs": [],
   "source": [
    "from google.oauth2 import service_account\n",
    "import pandas_gbq\n",
    "import pandas as pd"
   ]
  },
  {
   "cell_type": "code",
   "execution_count": 4,
   "metadata": {},
   "outputs": [],
   "source": [
    "import requests\n",
    "import json\n",
    "import datetime\n",
    "import time "
   ]
  },
  {
   "cell_type": "code",
   "execution_count": 5,
   "metadata": {},
   "outputs": [],
   "source": [
    "def date_to_seconds(year=2021, month=1, day=1):\n",
    "    return time.mktime( datetime.datetime(year, month, day, 23, 59).timetuple() )"
   ]
  },
  {
   "cell_type": "code",
   "execution_count": 55,
   "metadata": {},
   "outputs": [],
   "source": [
    "ticker = 'SPYD'\n",
    "ticker2 = 'ARCC'\n",
    "period1 = int(date_to_seconds(2021,3,15))\n",
    "period2 = int(date_to_seconds(datetime.date.today().year,\n",
    "                              datetime.date.today().month,\n",
    "                              datetime.date.today().day))"
   ]
  },
  {
   "cell_type": "code",
   "execution_count": 56,
   "metadata": {},
   "outputs": [],
   "source": [
    "url = (\n",
    "    'https://query1.finance.yahoo.com/v8/finance/chart/{0}?symbol={0}&interval=1d&events=history&period1={1}&period2={2}'\n",
    "    .format(ticker,period1, period2)\n",
    "      )\n",
    "url2 = (\n",
    "    'https://query1.finance.yahoo.com/v8/finance/chart/{0}?symbol={0}&interval=1d&events=history&period1={1}&period2={2}'\n",
    "    .format(ticker2,period1, period2)\n",
    "      )"
   ]
  },
  {
   "cell_type": "code",
   "execution_count": 57,
   "metadata": {},
   "outputs": [],
   "source": [
    "a = requests.get(url).json()\n",
    "b = requests.get(url2).json()"
   ]
  },
  {
   "cell_type": "markdown",
   "metadata": {},
   "source": [
    "### make a single dataframe with spyd and arcc data as columns for each date"
   ]
  },
  {
   "cell_type": "code",
   "execution_count": 58,
   "metadata": {},
   "outputs": [],
   "source": [
    "def make_stock_df(json_request_data):\n",
    "    ts = json_request_data['chart']['result'][0]['timestamp']\n",
    "    ts = pd.Series(ts).apply(lambda x: datetime.date.fromtimestamp(x))\n",
    "    \n",
    "    sp = json_request_data['chart']['result'][0]['indicators']['quote'][0]['close']\n",
    "    \n",
    "    stock_data = (pd\n",
    "              .concat([pd.Series(ts),pd.Series(sp)], \n",
    "                      axis=1)\n",
    "              .rename({0:'date',1:'stock_price'},\n",
    "                      axis=1)\n",
    "             )\n",
    "    \n",
    "    return stock_data"
   ]
  },
  {
   "cell_type": "code",
   "execution_count": 59,
   "metadata": {},
   "outputs": [
    {
     "data": {
      "text/html": [
       "<div>\n",
       "<style scoped>\n",
       "    .dataframe tbody tr th:only-of-type {\n",
       "        vertical-align: middle;\n",
       "    }\n",
       "\n",
       "    .dataframe tbody tr th {\n",
       "        vertical-align: top;\n",
       "    }\n",
       "\n",
       "    .dataframe thead th {\n",
       "        text-align: right;\n",
       "    }\n",
       "</style>\n",
       "<table border=\"1\" class=\"dataframe\">\n",
       "  <thead>\n",
       "    <tr style=\"text-align: right;\">\n",
       "      <th></th>\n",
       "      <th>date</th>\n",
       "      <th>stock_price</th>\n",
       "    </tr>\n",
       "  </thead>\n",
       "  <tbody>\n",
       "    <tr>\n",
       "      <th>0</th>\n",
       "      <td>2021-03-16</td>\n",
       "      <td>39.369999</td>\n",
       "    </tr>\n",
       "    <tr>\n",
       "      <th>1</th>\n",
       "      <td>2021-03-17</td>\n",
       "      <td>39.619999</td>\n",
       "    </tr>\n",
       "    <tr>\n",
       "      <th>2</th>\n",
       "      <td>2021-03-18</td>\n",
       "      <td>39.240002</td>\n",
       "    </tr>\n",
       "  </tbody>\n",
       "</table>\n",
       "</div>"
      ],
      "text/plain": [
       "         date  stock_price\n",
       "0  2021-03-16    39.369999\n",
       "1  2021-03-17    39.619999\n",
       "2  2021-03-18    39.240002"
      ]
     },
     "execution_count": 59,
     "metadata": {},
     "output_type": "execute_result"
    }
   ],
   "source": [
    "make_stock_df(a).head(3)"
   ]
  },
  {
   "cell_type": "code",
   "execution_count": 60,
   "metadata": {},
   "outputs": [
    {
     "data": {
      "text/html": [
       "<div>\n",
       "<style scoped>\n",
       "    .dataframe tbody tr th:only-of-type {\n",
       "        vertical-align: middle;\n",
       "    }\n",
       "\n",
       "    .dataframe tbody tr th {\n",
       "        vertical-align: top;\n",
       "    }\n",
       "\n",
       "    .dataframe thead th {\n",
       "        text-align: right;\n",
       "    }\n",
       "</style>\n",
       "<table border=\"1\" class=\"dataframe\">\n",
       "  <thead>\n",
       "    <tr style=\"text-align: right;\">\n",
       "      <th></th>\n",
       "      <th>date</th>\n",
       "      <th>stock_price</th>\n",
       "    </tr>\n",
       "  </thead>\n",
       "  <tbody>\n",
       "    <tr>\n",
       "      <th>0</th>\n",
       "      <td>2021-03-16</td>\n",
       "      <td>18.690001</td>\n",
       "    </tr>\n",
       "    <tr>\n",
       "      <th>1</th>\n",
       "      <td>2021-03-17</td>\n",
       "      <td>18.690001</td>\n",
       "    </tr>\n",
       "    <tr>\n",
       "      <th>2</th>\n",
       "      <td>2021-03-18</td>\n",
       "      <td>18.100000</td>\n",
       "    </tr>\n",
       "  </tbody>\n",
       "</table>\n",
       "</div>"
      ],
      "text/plain": [
       "         date  stock_price\n",
       "0  2021-03-16    18.690001\n",
       "1  2021-03-17    18.690001\n",
       "2  2021-03-18    18.100000"
      ]
     },
     "execution_count": 60,
     "metadata": {},
     "output_type": "execute_result"
    }
   ],
   "source": [
    "make_stock_df(b).head(3)"
   ]
  },
  {
   "cell_type": "code",
   "execution_count": 24,
   "metadata": {},
   "outputs": [],
   "source": [
    "# credentials = service_account.Credentials.from_service_account_file(\n",
    "#     '/Users/chrismatthews/.dbt/dbt_user_creds.json',\n",
    "# )\n",
    "# project_id = 'bold-artifact-312304'\n",
    "# table_id = 'RAW_DB.raw_equity_data'"
   ]
  },
  {
   "cell_type": "code",
   "execution_count": 28,
   "metadata": {},
   "outputs": [],
   "source": [
    "# pandas_gbq.to_gbq(\n",
    "#     stock_data,\n",
    "#     table_id,\n",
    "#     project_id=project_id,\n",
    "#     if_exists='replace'\n",
    "# )"
   ]
  },
  {
   "cell_type": "code",
   "execution_count": 51,
   "metadata": {},
   "outputs": [],
   "source": [
    "# stock_data.to_gbq(destination_table=table_id)"
   ]
  },
  {
   "cell_type": "code",
   "execution_count": null,
   "metadata": {},
   "outputs": [],
   "source": []
  }
 ],
 "metadata": {
  "kernelspec": {
   "display_name": "Python 3",
   "language": "python",
   "name": "python3"
  },
  "language_info": {
   "codemirror_mode": {
    "name": "ipython",
    "version": 3
   },
   "file_extension": ".py",
   "mimetype": "text/x-python",
   "name": "python",
   "nbconvert_exporter": "python",
   "pygments_lexer": "ipython3",
   "version": "3.7.10"
  }
 },
 "nbformat": 4,
 "nbformat_minor": 2
}
