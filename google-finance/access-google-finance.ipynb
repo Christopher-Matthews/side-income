{
 "cells": [
  {
   "cell_type": "code",
   "execution_count": 1,
   "metadata": {},
   "outputs": [],
   "source": [
    "# !pip install yahoo_finance_api2"
   ]
  },
  {
   "cell_type": "code",
   "execution_count": 14,
   "metadata": {},
   "outputs": [],
   "source": [
    "import sys\n",
    "from yahoo_finance_api2 import share\n",
    "from yahoo_finance_api2.exceptions import YahooFinanceError\n"
   ]
  },
  {
   "cell_type": "code",
   "execution_count": 20,
   "metadata": {},
   "outputs": [
    {
     "ename": "TypeError",
     "evalue": "get_historical() got an unexpected keyword argument 'start_date'",
     "output_type": "error",
     "traceback": [
      "\u001b[0;31m---------------------------------------------------------------------------\u001b[0m",
      "\u001b[0;31mTypeError\u001b[0m                                 Traceback (most recent call last)",
      "\u001b[0;32m<ipython-input-20-cc3ff7edfd9d>\u001b[0m in \u001b[0;36m<module>\u001b[0;34m\u001b[0m\n\u001b[1;32m      8\u001b[0m \u001b[0;31m#                                           1)\u001b[0m\u001b[0;34m\u001b[0m\u001b[0;34m\u001b[0m\u001b[0;34m\u001b[0m\u001b[0m\n\u001b[1;32m      9\u001b[0m \u001b[0;32mtry\u001b[0m\u001b[0;34m:\u001b[0m\u001b[0;34m\u001b[0m\u001b[0;34m\u001b[0m\u001b[0m\n\u001b[0;32m---> 10\u001b[0;31m     \u001b[0msymbol_data\u001b[0m \u001b[0;34m=\u001b[0m \u001b[0mmy_share\u001b[0m\u001b[0;34m.\u001b[0m\u001b[0mget_historical\u001b[0m\u001b[0;34m(\u001b[0m\u001b[0mstart_date\u001b[0m\u001b[0;34m=\u001b[0m\u001b[0;34m'2021-01-01'\u001b[0m\u001b[0;34m,\u001b[0m \u001b[0mend_date\u001b[0m\u001b[0;34m=\u001b[0m\u001b[0;34m'2021-01-10'\u001b[0m\u001b[0;34m)\u001b[0m\u001b[0;34m\u001b[0m\u001b[0;34m\u001b[0m\u001b[0m\n\u001b[0m\u001b[1;32m     11\u001b[0m \u001b[0;32mexcept\u001b[0m \u001b[0mYahooFinanceError\u001b[0m \u001b[0;32mas\u001b[0m \u001b[0me\u001b[0m\u001b[0;34m:\u001b[0m\u001b[0;34m\u001b[0m\u001b[0;34m\u001b[0m\u001b[0m\n\u001b[1;32m     12\u001b[0m     \u001b[0mprint\u001b[0m\u001b[0;34m(\u001b[0m\u001b[0me\u001b[0m\u001b[0;34m.\u001b[0m\u001b[0mmessage\u001b[0m\u001b[0;34m)\u001b[0m\u001b[0;34m\u001b[0m\u001b[0;34m\u001b[0m\u001b[0m\n",
      "\u001b[0;31mTypeError\u001b[0m: get_historical() got an unexpected keyword argument 'start_date'"
     ]
    }
   ],
   "source": [
    "\n",
    "my_share = share.Share('AAPL')\n",
    "symbol_data = None\n",
    "\n",
    "# try:\n",
    "#     symbol_data = my_share.get_historical(share.PERIOD_TYPE_DAY,\n",
    "#                                           10,\n",
    "#                                           share.FREQUENCY_TYPE_DAY,\n",
    "#                                           1)\n",
    "try:\n",
    "    symbol_data = my_share.get_historical(start_date='2021-01-01', end_date='2021-01-10')\n",
    "except YahooFinanceError as e:\n",
    "    print(e.message)\n",
    "    sys.exit(1)\n",
    "\n",
    "print(symbol_data)"
   ]
  },
  {
   "cell_type": "code",
   "execution_count": null,
   "metadata": {},
   "outputs": [],
   "source": [
    "share.Share('AAPL').get_historical"
   ]
  },
  {
   "cell_type": "code",
   "execution_count": 85,
   "metadata": {},
   "outputs": [],
   "source": [
    "import requests\n",
    "import json\n",
    "import datetime\n",
    "import time "
   ]
  },
  {
   "cell_type": "code",
   "execution_count": 88,
   "metadata": {},
   "outputs": [],
   "source": [
    "def date_to_seconds(year=2021, month=1, day=1):\n",
    "    return time.mktime( datetime.datetime(year, month, day, 23, 59).timetuple() )"
   ]
  },
  {
   "cell_type": "code",
   "execution_count": 118,
   "metadata": {},
   "outputs": [],
   "source": [
    "ticker = 'AAPL'\n",
    "period1 = int(date_to_seconds(2021,3,15))\n",
    "period2 = int(date_to_seconds(datetime.date.today().year,\n",
    "                              datetime.date.today().month,\n",
    "                              datetime.date.today().day))"
   ]
  },
  {
   "cell_type": "code",
   "execution_count": 119,
   "metadata": {},
   "outputs": [],
   "source": [
    "# url = 'https://query1.finance.yahoo.com/v8/finance/chart/AAPL?symbol=AAPL?dataGranularity=1d'\n",
    "url = (\n",
    "    'https://query1.finance.yahoo.com/v8/finance/chart/{0}?symbol={0}&interval=1d&events=history&period1={1}&period2={2}'\n",
    "    .format(ticker,period1, period2)\n",
    "      )"
   ]
  },
  {
   "cell_type": "code",
   "execution_count": 120,
   "metadata": {},
   "outputs": [],
   "source": [
    "a = requests.get(url).json()"
   ]
  },
  {
   "cell_type": "code",
   "execution_count": 123,
   "metadata": {},
   "outputs": [
    {
     "data": {
      "text/plain": [
       "[125.56999969482422,\n",
       " 124.76000213623047,\n",
       " 120.52999877929688,\n",
       " 119.98999786376953,\n",
       " 123.38999938964844,\n",
       " 122.54000091552734,\n",
       " 120.08999633789062,\n",
       " 120.58999633789062,\n",
       " 121.20999908447266,\n",
       " 121.38999938964844,\n",
       " 119.9000015258789,\n",
       " 122.1500015258789,\n",
       " 123.0,\n",
       " 125.9000015258789,\n",
       " 126.20999908447266,\n",
       " 127.9000015258789,\n",
       " 130.36000061035156,\n",
       " 133.0,\n",
       " 131.24000549316406,\n",
       " 134.42999267578125,\n",
       " 132.02999877929688,\n",
       " 134.5,\n",
       " 134.16000366210938,\n",
       " 134.83999633789062,\n",
       " 133.11000061035156,\n",
       " 133.5,\n",
       " 131.94000244140625,\n",
       " 134.32000732421875,\n",
       " 134.72000122070312,\n",
       " 134.38999938964844,\n",
       " 133.5800018310547,\n",
       " 133.47999572753906,\n",
       " 131.4600067138672]"
      ]
     },
     "execution_count": 123,
     "metadata": {},
     "output_type": "execute_result"
    }
   ],
   "source": [
    "a['chart']['result'][0]['indicators']['quote'][0]['close']"
   ]
  },
  {
   "cell_type": "code",
   "execution_count": null,
   "metadata": {},
   "outputs": [],
   "source": []
  }
 ],
 "metadata": {
  "kernelspec": {
   "display_name": "Python 3",
   "language": "python",
   "name": "python3"
  },
  "language_info": {
   "codemirror_mode": {
    "name": "ipython",
    "version": 3
   },
   "file_extension": ".py",
   "mimetype": "text/x-python",
   "name": "python",
   "nbconvert_exporter": "python",
   "pygments_lexer": "ipython3",
   "version": "3.7.10"
  }
 },
 "nbformat": 4,
 "nbformat_minor": 2
}
